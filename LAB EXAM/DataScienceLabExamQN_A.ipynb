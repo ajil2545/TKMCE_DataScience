{
 "cells": [
  {
   "cell_type": "code",
   "execution_count": 1,
   "metadata": {
    "id": "QbafLo3l3Key"
   },
   "outputs": [],
   "source": [
    "import numpy as np"
   ]
  },
  {
   "cell_type": "code",
   "execution_count": 2,
   "metadata": {
    "colab": {
     "base_uri": "https://localhost:8080/"
    },
    "id": "eqJ0u2TN3UcA",
    "outputId": "8d12781e-4518-4fe1-cc6d-21fb9ba59236"
   },
   "outputs": [
    {
     "name": "stdout",
     "output_type": "stream",
     "text": [
      "Enter the number of rows of matrix: 2\n"
     ]
    }
   ],
   "source": [
    "r=int(input(\"Enter the number of rows of matrix: \"))"
   ]
  },
  {
   "cell_type": "code",
   "execution_count": 3,
   "metadata": {
    "colab": {
     "base_uri": "https://localhost:8080/"
    },
    "id": "EnKrFJ5p4PvH",
    "outputId": "3c049284-fc93-4932-f5ef-9e58aa35617e"
   },
   "outputs": [
    {
     "name": "stdout",
     "output_type": "stream",
     "text": [
      "Enter the number of columns of the matrix: 2\n"
     ]
    }
   ],
   "source": [
    "c=int(input(\"Enter the number of columns of the matrix: \"))"
   ]
  },
  {
   "cell_type": "code",
   "execution_count": 4,
   "metadata": {
    "colab": {
     "base_uri": "https://localhost:8080/"
    },
    "id": "rYjW8z_t4ZFH",
    "outputId": "7b38faeb-247c-4c84-a9d4-b434ad2bc016"
   },
   "outputs": [
    {
     "name": "stdout",
     "output_type": "stream",
     "text": [
      "1\n",
      "3\n",
      "5\n",
      "7\n"
     ]
    }
   ],
   "source": [
    "m1=np.array([np.array([int(input()) for i in range(c)]) for j in range(r)])"
   ]
  },
  {
   "cell_type": "code",
   "execution_count": 5,
   "metadata": {
    "colab": {
     "base_uri": "https://localhost:8080/"
    },
    "id": "ja9wqs1w5esH",
    "outputId": "84c8b935-b668-499d-a963-ea37815f34a1"
   },
   "outputs": [
    {
     "name": "stdout",
     "output_type": "stream",
     "text": [
      "1st Matrix:\n",
      " [[1 3]\n",
      " [5 7]]\n"
     ]
    }
   ],
   "source": [
    "print(\"1st Matrix:\\n\",m1)"
   ]
  },
  {
   "cell_type": "code",
   "execution_count": 6,
   "metadata": {
    "colab": {
     "base_uri": "https://localhost:8080/"
    },
    "id": "y9YnBihK68R-",
    "outputId": "61474ec4-11eb-4167-bb6b-05f892e441ca"
   },
   "outputs": [
    {
     "name": "stdout",
     "output_type": "stream",
     "text": [
      "2\n",
      "4\n",
      "6\n",
      "8\n"
     ]
    }
   ],
   "source": [
    "m2=np.array([np.array([int(input()) for i in range(c)]) for j in range(r)]) "
   ]
  },
  {
   "cell_type": "code",
   "execution_count": 7,
   "metadata": {
    "colab": {
     "base_uri": "https://localhost:8080/"
    },
    "id": "fLFzFLheB_U0",
    "outputId": "0f29cf5e-0a16-496e-aefc-c7e7926e4c47"
   },
   "outputs": [
    {
     "name": "stdout",
     "output_type": "stream",
     "text": [
      "2nd Matrix:\n",
      " [[2 4]\n",
      " [6 8]]\n"
     ]
    }
   ],
   "source": [
    "print(\"2nd Matrix:\\n\",m2)"
   ]
  },
  {
   "cell_type": "code",
   "execution_count": 68,
   "metadata": {
    "colab": {
     "base_uri": "https://localhost:8080/"
    },
    "id": "7ZAp3Bt4-xzc",
    "outputId": "f337d425-e74e-48bd-a94c-ae10948dec94"
   },
   "outputs": [
    {
     "name": "stdout",
     "output_type": "stream",
     "text": [
      "Dot Product of the 2 Matrics is:\n",
      " [[20 28]\n",
      " [52 76]]\n"
     ]
    }
   ],
   "source": [
    "dotProduct=np.dot(m1,m2)\n",
    "print(\"Dot Product of the 2 Matrics is:\\n\",dotProduct)"
   ]
  },
  {
   "cell_type": "code",
   "execution_count": 75,
   "metadata": {
    "colab": {
     "base_uri": "https://localhost:8080/"
    },
    "id": "tKHdr2gI-4sE",
    "outputId": "129878f8-27f0-476b-b591-f35cbde23a89"
   },
   "outputs": [
    {
     "name": "stdout",
     "output_type": "stream",
     "text": [
      "Transpose of the 1st Matrix is:\n",
      " [[1 5]\n",
      " [3 7]]\n"
     ]
    }
   ],
   "source": [
    "m1T=np.transpose(m1)\n",
    "print(\"Transpose of the 1st Matrix is:\\n\",m1T)"
   ]
  },
  {
   "cell_type": "code",
   "execution_count": 76,
   "metadata": {
    "colab": {
     "base_uri": "https://localhost:8080/"
    },
    "id": "GOrbDjGk_nfs",
    "outputId": "b3b10945-4d27-48d3-bcb5-6f85e88f6bac"
   },
   "outputs": [
    {
     "name": "stdout",
     "output_type": "stream",
     "text": [
      "Transpose of the 2nd Matrix is:\n",
      " [[2 6]\n",
      " [4 8]]\n"
     ]
    }
   ],
   "source": [
    "m2T=np.transpose(m2)\n",
    "print(\"Transpose of the 2nd Matrix is:\\n\",m2T)"
   ]
  },
  {
   "cell_type": "code",
   "execution_count": 71,
   "metadata": {
    "colab": {
     "base_uri": "https://localhost:8080/"
    },
    "id": "N3OgwBuLCRQi",
    "outputId": "ff45ba17-57ac-45e7-ab07-6ac7c003567f"
   },
   "outputs": [
    {
     "name": "stdout",
     "output_type": "stream",
     "text": [
      "Sum of diagonal elements of 1st matrix:  8\n"
     ]
    }
   ],
   "source": [
    "trace1=m1.trace()\n",
    "print(\"Sum of diagonal elements of 1st matrix: \",trace1)"
   ]
  },
  {
   "cell_type": "code",
   "execution_count": 70,
   "metadata": {
    "colab": {
     "base_uri": "https://localhost:8080/"
    },
    "id": "GUdvzvDUChWi",
    "outputId": "9a5f14df-1dc2-44e1-960a-0f98e4d833de"
   },
   "outputs": [
    {
     "name": "stdout",
     "output_type": "stream",
     "text": [
      "Sum of diagonal elements of 2nd matrix:  10\n"
     ]
    }
   ],
   "source": [
    "trace2=m2.trace()\n",
    "print(\"Sum of diagonal elements of 2nd matrix: \",trace2)"
   ]
  },
  {
   "cell_type": "code",
   "execution_count": 73,
   "metadata": {
    "colab": {
     "base_uri": "https://localhost:8080/"
    },
    "id": "hj51-VfBCkmb",
    "outputId": "58d77e71-28c6-4524-9d0b-9c49105147a4"
   },
   "outputs": [
    {
     "name": "stdout",
     "output_type": "stream",
     "text": [
      "The Rank of 1st Matrix:  2\n",
      "The Rank of 2nd Matrix:  2\n"
     ]
    }
   ],
   "source": [
    "rank1=np.linalg.matrix_rank(m1)\n",
    "print(\"The Rank of 1st Matrix: \",rank1)\n",
    "rank2=np.linalg.matrix_rank(m2)\n",
    "print(\"The Rank of 2nd Matrix: \",rank2)"
   ]
  },
  {
   "cell_type": "code",
   "execution_count": 74,
   "metadata": {
    "colab": {
     "base_uri": "https://localhost:8080/"
    },
    "id": "07MGk1W3C4Kq",
    "outputId": "5232a61c-e640-4847-d809-a0f9ad5e0cf6"
   },
   "outputs": [
    {
     "name": "stdout",
     "output_type": "stream",
     "text": [
      "The Determinant of 1st Matrix:  -7.999999999999998\n",
      "The Determinent of 2nd Matrix:  -8.000000000000002\n"
     ]
    }
   ],
   "source": [
    "det1=np.linalg.det(m1)\n",
    "print(\"The Determinant of 1st Matrix: \", det1)\n",
    "det2=np.linalg.det(m2)\n",
    "print(\"The Determinent of 2nd Matrix: \", det2)"
   ]
  },
  {
   "cell_type": "code",
   "execution_count": null,
   "metadata": {},
   "outputs": [],
   "source": []
  }
 ],
 "metadata": {
  "colab": {
   "provenance": []
  },
  "kernelspec": {
   "display_name": "Python 3 (ipykernel)",
   "language": "python",
   "name": "python3"
  },
  "language_info": {
   "codemirror_mode": {
    "name": "ipython",
    "version": 3
   },
   "file_extension": ".py",
   "mimetype": "text/x-python",
   "name": "python",
   "nbconvert_exporter": "python",
   "pygments_lexer": "ipython3",
   "version": "3.10.6"
  }
 },
 "nbformat": 4,
 "nbformat_minor": 1
}
