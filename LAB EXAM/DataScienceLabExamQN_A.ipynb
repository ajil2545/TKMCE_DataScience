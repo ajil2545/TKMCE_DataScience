{
  "nbformat": 4,
  "nbformat_minor": 0,
  "metadata": {
    "colab": {
      "provenance": []
    },
    "kernelspec": {
      "name": "python3",
      "display_name": "Python 3"
    },
    "language_info": {
      "name": "python"
    }
  },
  "cells": [
    {
      "cell_type": "code",
      "execution_count": 1,
      "metadata": {
        "id": "QbafLo3l3Key"
      },
      "outputs": [],
      "source": [
        "import numpy as np"
      ]
    },
    {
      "cell_type": "code",
      "source": [
        "r=int(input(\"Enter the number of rows of matrix: \"))"
      ],
      "metadata": {
        "colab": {
          "base_uri": "https://localhost:8080/"
        },
        "id": "eqJ0u2TN3UcA",
        "outputId": "8d12781e-4518-4fe1-cc6d-21fb9ba59236"
      },
      "execution_count": 8,
      "outputs": [
        {
          "name": "stdout",
          "output_type": "stream",
          "text": [
            "Enter the number of rows of matrix: 2\n"
          ]
        }
      ]
    },
    {
      "cell_type": "code",
      "source": [
        "c=int(input(\"Enter the number of columns of the matrix: \"))"
      ],
      "metadata": {
        "colab": {
          "base_uri": "https://localhost:8080/"
        },
        "id": "EnKrFJ5p4PvH",
        "outputId": "3c049284-fc93-4932-f5ef-9e58aa35617e"
      },
      "execution_count": 10,
      "outputs": [
        {
          "name": "stdout",
          "output_type": "stream",
          "text": [
            "Enter the number of columns of the matrix: 2\n"
          ]
        }
      ]
    },
    {
      "cell_type": "code",
      "source": [
        "m1=np.array([np.array([int(input()) for i in range(c)]) for j in range(r)])"
      ],
      "metadata": {
        "colab": {
          "base_uri": "https://localhost:8080/"
        },
        "id": "rYjW8z_t4ZFH",
        "outputId": "7b38faeb-247c-4c84-a9d4-b434ad2bc016"
      },
      "execution_count": 47,
      "outputs": [
        {
          "name": "stdout",
          "output_type": "stream",
          "text": [
            "1\n",
            "3\n",
            "5\n",
            "7\n"
          ]
        }
      ]
    },
    {
      "cell_type": "code",
      "source": [
        "print(\"1st Matrix:\\n\",m1)"
      ],
      "metadata": {
        "colab": {
          "base_uri": "https://localhost:8080/"
        },
        "id": "ja9wqs1w5esH",
        "outputId": "84c8b935-b668-499d-a963-ea37815f34a1"
      },
      "execution_count": 64,
      "outputs": [
        {
          "output_type": "stream",
          "name": "stdout",
          "text": [
            "1st Matrix:\n",
            " [[1 3]\n",
            " [5 7]]\n"
          ]
        }
      ]
    },
    {
      "cell_type": "code",
      "source": [
        "m2=np.array([np.array([int(input()) for i in range(c)]) for j in range(r)]) "
      ],
      "metadata": {
        "colab": {
          "base_uri": "https://localhost:8080/"
        },
        "id": "y9YnBihK68R-",
        "outputId": "61474ec4-11eb-4167-bb6b-05f892e441ca"
      },
      "execution_count": 49,
      "outputs": [
        {
          "name": "stdout",
          "output_type": "stream",
          "text": [
            "2\n",
            "4\n",
            "6\n",
            "8\n"
          ]
        }
      ]
    },
    {
      "cell_type": "code",
      "source": [
        "print(\"2nd Matrix:\\n\",m2)"
      ],
      "metadata": {
        "colab": {
          "base_uri": "https://localhost:8080/"
        },
        "id": "fLFzFLheB_U0",
        "outputId": "0f29cf5e-0a16-496e-aefc-c7e7926e4c47"
      },
      "execution_count": 62,
      "outputs": [
        {
          "output_type": "stream",
          "name": "stdout",
          "text": [
            "2nd Matrix:\n",
            " [[2 4]\n",
            " [6 8]]\n"
          ]
        }
      ]
    },
    {
      "cell_type": "code",
      "source": [
        "dotProduct=np.dot(m1,m2)\n",
        "print(\"Dot Product of the 2 Matrics is:\\n\",dotProduct)"
      ],
      "metadata": {
        "colab": {
          "base_uri": "https://localhost:8080/"
        },
        "id": "7ZAp3Bt4-xzc",
        "outputId": "f337d425-e74e-48bd-a94c-ae10948dec94"
      },
      "execution_count": 68,
      "outputs": [
        {
          "output_type": "stream",
          "name": "stdout",
          "text": [
            "Dot Product of the 2 Matrics is:\n",
            " [[20 28]\n",
            " [52 76]]\n"
          ]
        }
      ]
    },
    {
      "cell_type": "code",
      "source": [
        "m1T=np.transpose(m1)\n",
        "print(\"Transpose of the 1st Matrix is:\\n\",m1T)"
      ],
      "metadata": {
        "colab": {
          "base_uri": "https://localhost:8080/"
        },
        "id": "tKHdr2gI-4sE",
        "outputId": "129878f8-27f0-476b-b591-f35cbde23a89"
      },
      "execution_count": 75,
      "outputs": [
        {
          "output_type": "stream",
          "name": "stdout",
          "text": [
            "Transpose of the 1st Matrix is:\n",
            " [[1 5]\n",
            " [3 7]]\n"
          ]
        }
      ]
    },
    {
      "cell_type": "code",
      "source": [
        "m2T=np.transpose(m2)\n",
        "print(\"Transpose of the 2nd Matrix is:\\n\",m2T)"
      ],
      "metadata": {
        "colab": {
          "base_uri": "https://localhost:8080/"
        },
        "id": "GOrbDjGk_nfs",
        "outputId": "b3b10945-4d27-48d3-bcb5-6f85e88f6bac"
      },
      "execution_count": 76,
      "outputs": [
        {
          "output_type": "stream",
          "name": "stdout",
          "text": [
            "Transpose of the 2nd Matrix is:\n",
            " [[2 6]\n",
            " [4 8]]\n"
          ]
        }
      ]
    },
    {
      "cell_type": "code",
      "source": [
        "trace1=m1.trace()\n",
        "print(\"Sum of diagonal elements of 1st matrix: \",trace1)"
      ],
      "metadata": {
        "colab": {
          "base_uri": "https://localhost:8080/"
        },
        "id": "N3OgwBuLCRQi",
        "outputId": "ff45ba17-57ac-45e7-ab07-6ac7c003567f"
      },
      "execution_count": 71,
      "outputs": [
        {
          "output_type": "stream",
          "name": "stdout",
          "text": [
            "Sum of diagonal elements of 1st matrix:  8\n"
          ]
        }
      ]
    },
    {
      "cell_type": "code",
      "source": [
        "trace2=m2.trace()\n",
        "print(\"Sum of diagonal elements of 2nd matrix: \",trace2)"
      ],
      "metadata": {
        "colab": {
          "base_uri": "https://localhost:8080/"
        },
        "id": "GUdvzvDUChWi",
        "outputId": "9a5f14df-1dc2-44e1-960a-0f98e4d833de"
      },
      "execution_count": 70,
      "outputs": [
        {
          "output_type": "stream",
          "name": "stdout",
          "text": [
            "Sum of diagonal elements of 2nd matrix:  10\n"
          ]
        }
      ]
    },
    {
      "cell_type": "code",
      "source": [
        "rank1=np.linalg.matrix_rank(m1)\n",
        "print(\"The Rank of 1st Matrix: \",rank1)\n",
        "rank2=np.linalg.matrix_rank(m2)\n",
        "print(\"The Rank of 2nd Matrix: \",rank2)"
      ],
      "metadata": {
        "colab": {
          "base_uri": "https://localhost:8080/"
        },
        "id": "hj51-VfBCkmb",
        "outputId": "58d77e71-28c6-4524-9d0b-9c49105147a4"
      },
      "execution_count": 73,
      "outputs": [
        {
          "output_type": "stream",
          "name": "stdout",
          "text": [
            "The Rank of 1st Matrix:  2\n",
            "The Rank of 2nd Matrix:  2\n"
          ]
        }
      ]
    },
    {
      "cell_type": "code",
      "source": [
        "det1=np.linalg.det(m1)\n",
        "print(\"The Determinant of 1st Matrix: \", det1)\n",
        "det2=np.linalg.det(m2)\n",
        "print(\"The Determinent of 2nd Matrix: \", det2)"
      ],
      "metadata": {
        "colab": {
          "base_uri": "https://localhost:8080/"
        },
        "id": "07MGk1W3C4Kq",
        "outputId": "5232a61c-e640-4847-d809-a0f9ad5e0cf6"
      },
      "execution_count": 74,
      "outputs": [
        {
          "output_type": "stream",
          "name": "stdout",
          "text": [
            "The Determinant of 1st Matrix:  -7.999999999999998\n",
            "The Determinent of 2nd Matrix:  -8.000000000000002\n"
          ]
        }
      ]
    },
    {
      "cell_type": "code",
      "source": [],
      "metadata": {
        "id": "DBuT9tLBDKZC"
      },
      "execution_count": null,
      "outputs": []
    }
  ]
}