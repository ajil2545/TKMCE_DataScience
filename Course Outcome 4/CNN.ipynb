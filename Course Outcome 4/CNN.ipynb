{
 "cells": [
  {
   "cell_type": "code",
   "execution_count": null,
   "id": "386e5228-3a09-4924-852a-018dc9b17be8",
   "metadata": {},
   "outputs": [],
   "source": [
    "import tensorflow as tf\n",
    "import keras\n",
    "from tensorflow.keras import datasets,layers\n",
    "import numpy as np\n",
    "from sklearn import metrics\n",
    "import matplotlib.pyplot as plt"
   ]
  },
  {
   "cell_type": "code",
   "execution_count": null,
   "id": "f0eb87e8-add8-41d0-86e1-21071ddfbf7b",
   "metadata": {},
   "outputs": [],
   "source": [
    "(x_train, y_train), (x_test, y_test) = datasets.cifar10.load_data()"
   ]
  },
  {
   "cell_type": "code",
   "execution_count": null,
   "id": "4334a63b-fa7b-47a0-b95a-2e74ad6aa495",
   "metadata": {},
   "outputs": [],
   "source": [
    "x_train.shape"
   ]
  },
  {
   "cell_type": "code",
   "execution_count": null,
   "id": "f0625498-424f-479a-8489-6670a2e04b96",
   "metadata": {},
   "outputs": [],
   "source": [
    "x_test.shape"
   ]
  },
  {
   "cell_type": "code",
   "execution_count": null,
   "id": "441ed594-b27f-4292-bfd9-32500be55a7b",
   "metadata": {},
   "outputs": [],
   "source": [
    "plt.figure(figsize=(10,4))\n",
    "for i in range(1,5):\n",
    "    plt.subplot(2,5,i)\n",
    "    plt.imshow(x_train[i])\n",
    "    plt.xlabel(y_train[i])\n",
    "plt.show()"
   ]
  },
  {
   "cell_type": "code",
   "execution_count": null,
   "id": "b4c43c9f-3201-4a42-b34a-47668f0bd934",
   "metadata": {},
   "outputs": [],
   "source": [
    "x_train = x_train.reshape(50000,32,32,3).astype('float32')\n",
    "x_test = x_test.reshape(10000,32,32,3).astype('float32')"
   ]
  },
  {
   "cell_type": "code",
   "execution_count": null,
   "id": "f83006e9-f4f3-4202-9ec4-9b72eddfae96",
   "metadata": {},
   "outputs": [],
   "source": [
    "x_train/=255\n",
    "x_test/=255"
   ]
  },
  {
   "cell_type": "code",
   "execution_count": null,
   "id": "a1859d65-6140-4b6b-b51f-d8ab841eb07e",
   "metadata": {},
   "outputs": [],
   "source": [
    "x_train.shape"
   ]
  },
  {
   "cell_type": "code",
   "execution_count": null,
   "id": "0921a396-0aa0-45c2-bcb3-71dd250b0fd1",
   "metadata": {},
   "outputs": [],
   "source": [
    "cnn = keras.Sequential()"
   ]
  },
  {
   "cell_type": "code",
   "execution_count": null,
   "id": "28a3d02f-f15a-4a6a-ac73-7639abd0f9f9",
   "metadata": {},
   "outputs": [],
   "source": [
    "cnn.add(layers.Conv2D(filters=32, activation = 'relu', kernel_size = (3,3),\n",
    "                      input_shape = (32,32,3)))"
   ]
  },
  {
   "cell_type": "code",
   "execution_count": null,
   "id": "552c1e4f-3304-4810-bb68-7287637fcdaa",
   "metadata": {},
   "outputs": [],
   "source": [
    "cnn.add(layers.MaxPool2D((2,2)))"
   ]
  },
  {
   "cell_type": "code",
   "execution_count": null,
   "id": "5c3e8e74-073b-46b6-8f01-8fdf56d57808",
   "metadata": {},
   "outputs": [],
   "source": [
    "cnn.add(layers.Conv2D(filters=32, activation = 'relu', kernel_size = (3,3),\n",
    "                      input_shape = (32,32,3)))"
   ]
  },
  {
   "cell_type": "code",
   "execution_count": null,
   "id": "17e840b9-03fc-4ded-be0e-21db7d15ced5",
   "metadata": {},
   "outputs": [],
   "source": [
    "cnn.add(layers.MaxPool2D((2,2)))"
   ]
  },
  {
   "cell_type": "code",
   "execution_count": null,
   "id": "b6a94b06-ae0d-48be-902c-1df1957672ab",
   "metadata": {},
   "outputs": [],
   "source": [
    "cnn.add(layers.Flatten())"
   ]
  },
  {
   "cell_type": "code",
   "execution_count": null,
   "id": "3b203770-6328-466b-a7e5-a2d8d6562870",
   "metadata": {},
   "outputs": [],
   "source": [
    "cnn.add(layers.Dense(64, activation = 'relu'))"
   ]
  },
  {
   "cell_type": "code",
   "execution_count": null,
   "id": "61f61ec7-0d37-40cf-b17b-deb55cc9bcc3",
   "metadata": {},
   "outputs": [],
   "source": [
    "cnn.add(layers.Dense(10, activation = 'softmax'))"
   ]
  },
  {
   "cell_type": "code",
   "execution_count": null,
   "id": "49248d0f-403e-471f-aca8-2b52aefab28b",
   "metadata": {},
   "outputs": [],
   "source": [
    "cnn.compile(optimizer = 'adam', loss = 'sparse_categorical_crossentropy',\n",
    "            metrics = ['accuracy'])"
   ]
  },
  {
   "cell_type": "code",
   "execution_count": null,
   "id": "94859806-adf3-4d02-9bff-32951b1c46f1",
   "metadata": {},
   "outputs": [],
   "source": [
    "cnn.fit(x_train, y_train, epochs=20)"
   ]
  },
  {
   "cell_type": "code",
   "execution_count": null,
   "id": "74ab503e-228c-479e-bccb-0704ce8f1a8f",
   "metadata": {},
   "outputs": [],
   "source": [
    "y_pred = cnn.predict(x_test)"
   ]
  },
  {
   "cell_type": "code",
   "execution_count": null,
   "id": "11ad3171-7482-41ec-b18d-9c7d22b02e1d",
   "metadata": {},
   "outputs": [],
   "source": [
    "y_pre = []\n",
    "count = 0\n",
    "for a, i in enumerate(y_pred):\n",
    "    y_pre.append(np.argmax(i))\n",
    "    if(np.argmax(i) == y_test[a]):\n",
    "        count = count+1"
   ]
  },
  {
   "cell_type": "code",
   "execution_count": null,
   "id": "cc648e86-a42d-493b-83de-620632e4446b",
   "metadata": {},
   "outputs": [],
   "source": [
    "y_pre = np.array(y_pre)"
   ]
  },
  {
   "cell_type": "code",
   "execution_count": null,
   "id": "10b5de7c-a07b-4fc7-9500-1add9f3f90d1",
   "metadata": {},
   "outputs": [],
   "source": [
    "y_test = y_test.reshape(-1)"
   ]
  },
  {
   "cell_type": "code",
   "execution_count": null,
   "id": "2c04b267-362f-4643-a9e7-b4175e869f98",
   "metadata": {},
   "outputs": [],
   "source": [
    "print(metrics.accuracy_score(y_test, y_pre))"
   ]
  },
  {
   "cell_type": "code",
   "execution_count": null,
   "id": "f2342f68-aa64-4905-b4c9-f42c8160ab45",
   "metadata": {},
   "outputs": [],
   "source": [
    "y_test"
   ]
  },
  {
   "cell_type": "code",
   "execution_count": null,
   "id": "83fc89c8-5b87-4738-9208-a63817f90c67",
   "metadata": {},
   "outputs": [],
   "source": [
    "y_pre.astype('uint8')"
   ]
  },
  {
   "cell_type": "code",
   "execution_count": null,
   "id": "c23e7574",
   "metadata": {},
   "outputs": [],
   "source": []
  }
 ],
 "metadata": {
  "kernelspec": {
   "display_name": "Python 3 (ipykernel)",
   "language": "python",
   "name": "python3"
  },
  "language_info": {
   "codemirror_mode": {
    "name": "ipython",
    "version": 3
   },
   "file_extension": ".py",
   "mimetype": "text/x-python",
   "name": "python",
   "nbconvert_exporter": "python",
   "pygments_lexer": "ipython3",
   "version": "3.10.6"
  }
 },
 "nbformat": 4,
 "nbformat_minor": 5
}
